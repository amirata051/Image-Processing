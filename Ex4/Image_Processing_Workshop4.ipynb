{
  "cells": [
    {
      "cell_type": "markdown",
      "metadata": {
        "id": "Y3tUCnKaGrwt"
      },
      "source": [
        "<font face=\"B Mitra\" size=4>\n",
        "<div dir=rtl align=center>\n",
        "\n",
        "<br>\n",
        "<img src=\"https://aut.ac.ir/templates/tmpl_modern01/images/logo_fa.png\" alt=\"Amirkabir University Logo\" width=\"100\">\n",
        "\n",
        "<br>\n",
        "<font size=2>\n",
        "<b>دانشگاه صنعتی امیرکبیر - دانشکده ریاضی و علوم کامپیوتر</b>\n",
        "</font>\n",
        "\n",
        "<br>\n",
        "<font size=6>\n",
        "<b>مقدمه‌ای بر پردازش تصویر</b>\n",
        "</font>\n",
        "\n",
        "<br>\n",
        "<hr/>\n",
        "<font size=6>\n",
        "<b>کارگاه چهارم </b>\n",
        "</font>\n",
        "\n",
        "<br>\n",
        "استاد: دکتر مصطفی شمسی\n",
        "\n",
        "<br>\n",
        "طراح:‌ ثمین اسدی\n",
        "\n",
        "<hr>\n",
        "</div>\n",
        "</font>\n"
      ]
    },
    {
      "cell_type": "markdown",
      "metadata": {
        "id": "qpu72WPluoll"
      },
      "source": [
        "\n",
        "<font face=\"B Mitra\" size=5>\n",
        "<div dir=rtl>\n",
        "کتابخانه های پیشنهادی:\n",
        "<hr>"
      ]
    },
    {
      "cell_type": "code",
      "execution_count": null,
      "metadata": {
        "id": "dFsy9FSVBFT0"
      },
      "outputs": [],
      "source": [
        "cv2 as cv\n",
        "numpy as np\n",
        "matplotlib.pyplot as plt\n",
        "matplotlib.image as mpimg\n",
        "turtle"
      ]
    },
    {
      "cell_type": "markdown",
      "metadata": {
        "id": "jGMsaAhbn6Zy"
      },
      "source": [
        "<font face=\"B Mitra\" size=5>\n",
        "<div dir=rtl>\n",
        "\n",
        "<br>\n",
        "<p align=\"justify\">\n",
        "<font size=6>\n",
        "<h2>Region Grwoing</h2>\n",
        "<font size=4>\n",
        "</font>\n",
        "<p>\n",
        "region growing یک روش تقسیم بندی بسیار محبوب است. از مراحل زیر تشکیل شده است:\n",
        "\n",
        "(1)\n",
        "انتخاب یک دانه، یعنی یک پیکسل اولیه. این مرحله به دو صورت قابل انجام است:\n",
        "\n",
        "   - به صورت تعاملی (کاربر دانه را انتخاب می کند)\n",
        "\n",
        "     \n",
        "    \n",
        "\n",
        "   -  به طور خودکار: دانه به طور تصادفی انتخاب می شود\n",
        "\n",
        "(2) یک معیار شباهت بین دو پیکسل انتخاب کنید.\n",
        "\n",
        "    \n",
        "(3) پیکسل‌های مشابه همسایه‌اش را جمع کنید، و در نتیجه اولین ناحیه R1 ایجاد می‌شود.\n",
        "\n",
        "    \n",
        "(4)  یک معیار شباهت بین یک پیکسل و یک منطقه انتخاب کنید.\n",
        "\n",
        "   \n",
        "(5)  پیکسل‌های مشابه همسایه‌اش (یعنی متعلق به مرز خارجی آن) را در R1 جمع کنید، که منجر به ایجاد یک منطقه R2⊃R1 می‌شود.\n",
        "\n",
        "   \n",
        "(6) این فرآیند را تا زمانی ادامه دهید که پیکسل های بیشتری نتوانند جمع شوند.\n",
        "\n",
        "   \n",
        "</p>\n",
        "<hr>"
      ]
    },
    {
      "cell_type": "markdown",
      "metadata": {
        "id": "1U-rcF-vIt4A"
      },
      "source": [
        "<hr>\n",
        "<font face=\"B Mitra\" size=5>\n",
        "<div dir=rtl>\n",
        "\n",
        "<font size=6>\n",
        "<b>تمرین اول</b>\n",
        "</font>\n",
        "\n",
        "<br>\n",
        "<p align=\"justify\">\n",
        "<font size=4>\n",
        "<p>  در این تمرین قصد داریم عملیات بخش بندی تصویر را با استفاده از region growing (که پیش‌تر توضیح داده شد) پیاده سازی کنیم. بدین منظور قصد داریم ماده سفید مغز و ماده خاکستری مغز را از پس زمینه جدا کنیم        </p>\n",
        "\n",
        "</p>\n",
        "\n",
        "<p>\n",
        "<font size=4>\n",
        "\n",
        "</font>\n",
        "</p>\n",
        "\n",
        "</div>\n",
        "</font>"
      ]
    },
    {
      "cell_type": "markdown",
      "metadata": {
        "id": "k2eS8xUFBwk-"
      },
      "source": [
        "<font face=\"B Mitra\" size=5>\n",
        "<div dir=rtl>\n",
        "\n",
        "<br>\n",
        "<p align=\"justify\">\n",
        "<font size=4>\n",
        "\n",
        "<font size=4>\n",
        "</font>\n",
        "<p>\n",
        "1.1 تصویر Color_MRI.png را بخوانید(در فایل زیپ) و به طیف خاکستری ببرید.\n",
        "</p>\n",
        "\n",
        "\n",
        "\n",
        "<font size=4>\n",
        "\n",
        "<p>\n",
        "۲.۱ دو نقطه به عنوان دانه، یکی در قسمت ماده سفید مغز و دیگری در قسمت ماده خاکستری مغز انتخاب کنید. یک تصویر خالی با ابعاد تصویر خاکستری خوانده شده تعریف کنید و نقاط دانه را روی آن با مقادیر مختلف مشخص کنید.\n",
        "</p>\n",
        "</font>\n",
        "\n",
        "\n",
        "<font size=4>\n",
        "\n",
        "<p>\n",
        "۳.۱ تابع region growing را به گونه ای تعریف کنید که دو تا از ورودی هایش \" مقدار اختلاف از سطح آستانه \" و دیگری رشته ای  که نشان دهنده  \n",
        "\" نوع محاسبه سطح آستانه \" باشد. برای نوع محاسبه سطح آستانه  یکی از دو مدل زیر انتخاب کنید.\n",
        "\n",
        "الف)ثابت: سطح آستانه در تمام تکرا رها یکسان و برابر مقدار شدت در نقطه دانه  میباشد.\n",
        "\n",
        "\n",
        "ب) متغیر: سطح آستانه در هر تکرار مجددا محاسبه می شود که برابر است با میانگین شدتهای تمام نقاط\n",
        "درون بخش\n",
        "</p>\n",
        "\n",
        "\n",
        "<font size=4>\n",
        "\n",
        "<p>\n",
        "  ۴.۱ با کرنل + الگوریتم region growing را روی تصویر خالی اعمال کنید.\n",
        "تابع region growing را با نوع سطح آستانه ای که انتخاب کردید، به تعدادی روی تصویر اعمال کنید تا پیکسلهای هر بخش را بخش بندی کند.\n",
        "</p>\n",
        "\n",
        "\n",
        "<font size=4>\n",
        "<p>\n",
        "\n",
        "\n",
        "\n",
        "\n",
        "\n",
        "<p font=\"Mitra\">\n",
        "</p>\n",
        "۵.۱ تعداد دفعات تکرار را محاسبه و چاپ کنید. تصویر اصلی و تصویر بخشبندی شده را به صورت استاندارد نمایش دهید و تحلیل کنید.\n",
        "</p>\n",
        "</b>\n",
        "\n",
        "</div>\n",
        "</font>\n",
        "\n",
        "\n",
        "<hr>\n",
        "\n",
        "</div>\n",
        "</font>"
      ]
    },
    {
      "cell_type": "markdown",
      "metadata": {
        "id": "OXtA_0FW7SZe"
      },
      "source": [
        "<font face=\"B Mitra\" size=4>\n",
        "<div dir=rtl>\n",
        "<p>\n",
        "<h2> روند حل مسئله </h2>\n",
        "\n",
        "در ابتدا دو نقطه را به صورت چشمی یکی از ناحیه سفید و دیگری از ناحیه خاکستری به عنوان دانه انتخاب کنید.\n",
        "\n",
        "برای نمایش این دو نقطه بدلیل اینکه بسیار ریز هستند باید با کمک تابع cv.circle دایره ای اطراف آنها با شدت برابر با همان نقاط نمایش دهید.\n",
        "\n",
        "نمونه کدی برای تعریف تابع region growing  در زیر آمده است که میتوانید از آن استفاده کنید.\n",
        "\n",
        "کافی است برای دستیابی به خروجی تابع region growing را فراخوانی کرده و ورودی های مناسب به آن بدهید و در نهایت خروجی های مورد نظر را نمایش دهید و مقادیر step برای هرکدام از ناحیه سفید و ناحیه خاکستری را چاپ کنید.\n",
        "</div>\n",
        "</font>"
      ]
    },
    {
      "cell_type": "markdown",
      "metadata": {
        "id": "ty6w-o2yPGVP"
      },
      "source": [
        "<font face=\"B Mitra\" size=4>\n",
        "<div dir=rtl>\n",
        "<p>\n",
        "<b>\n",
        "<h2> توضیح عملکرد تابع (سلول پایین)</h2>\n",
        "</b>\n",
        "ابعاد تصویر با استفاده از img.shape استخراج شده و در متغیرهای ارتفاع و وزن ذخیره می شود.\n",
        "\n",
        "آرایه ای به نام seedMark با همان سایز تصویر ورودی ایجاد می شود و با صفر پر می شود. این آرایه برای علامت گذاری پیکسل های متعلق به منطقه تقسیم شده استفاده می شود.\n",
        "\n",
        "یک لیست خالی به نام seedList برای ذخیره نقاط بذر برای منطقه در حال رشد مقداردهی اولیه می شود.\n",
        "\n",
        "یک لیست خالی به نام seedList برای ذخیره نقاط seed برای منطقه در حال رشد مقداردهی اولیه می شود.\n",
        "متغیرها seeds_grayscale، steps, main_grayscale، و seeds_avg_grayscale به مقادیر مناسب، مشابه توضیحات قبلی مقداردهی اولیه می شوند.\n",
        "\n",
        "یک حلقه برای تکرار روی هر نقطه در لیست دانه ها استفاده می شود. نقاط دانه به seedList اضافه می شوند و مقادیر خاکستری مربوطه از تصویر ورودی به لیست seeds_grayscale اضافه می شوند.\n",
        "\n",
        "میانگین مقدار خاکستری نقاط بذر با استفاده از np.average(seeds_greyscale) و inseeds_avg_grayscale ذخیره شده محاسبه می شود.\n",
        "\n",
        "لیست connect  با مختصات نسبی تعریف شده است که نشان دهنده پیکسل های همسایه (بالا، راست، پایین، چپ) مورد استفاده برای اتصال در فرآیند رشد منطقه است.\n",
        "\n",
        "از حلقه while برای تکرار استفاده می شود تا زمانی که هیچ seed ای در seedList باقی نماند. این حلقه هر seed را پردازش می کند. در داخل حلقه، اولین Seed Point از seedList با استفاده از seedList.pop(0) حذف شده و در currentPoint ذخیره می شود.\n",
        "\n",
        "اگر diffType \"میانگین\" باشد، مقدار مقیاس خاکستری فعلی Point از img استخراج می شود و به seeds_grayscale اضافه می شود. سپس، مقدار متوسط ​​مقیاس خاکستری با استفاده از np.average (seeds_grayscale) مجدداً محاسبه می‌شود و در seeds_avg_grayscale ذخیره می‌شود. در نهایت، به پیکسل مربوطه در seedMark مقدار برچسب اختصاص داده می شود تا آن را به عنوان بخشی از منطقه تقسیم شده علامت گذاری کند.\n",
        "\n",
        "اگر diffType \"ثابت\" باشد، میانگین مقیاس خاکستری با استفاده از main_grayscale (متوسط ​​محاسبه شده قبلی) محاسبه می شود و در seeds_avg_grayscale ذخیره می شود. به پیکسل مربوطه در seedMark مقدار برچسب اختصاص داده می شود.\n",
        "\n",
        "حلقه for برای تکرار بر روی چهار مختصات همسایه (بالا، راست، پایین، چپ) تعریف شده در لیست اتصالات استفاده می شود.\n",
        "\n",
        "در داخل حلقه for، متغیرهای موقت tmpX و tmpY با اضافه کردن مختصات همسایه فعلی به currentPoint محاسبه می‌شوند.\n",
        "\n",
        "اگر مختصات موقت tmpX یا tmpY خارج از مرزهای تصویر باشند، حلقه به تکرار بعدی ادامه میدهد.\n",
        "\n",
        "تفاوت مطلق بین مقدار مقیاس خاکستری پیکسل موقت در img و seeds_avg_grayscale محاسبه و در grayDiff ذخیره می شود.\n",
        "\n",
        "اگر grayDiff کوچکتر از  آستانه باشد و پیکسل مربوطه در seedMark قبلاً برچسب گذاری نشده باشد (seedMark[tmpX,tmpY] == 0)، به پیکسل موقت مقدار برچسب در seedMark اختصاص داده می شود. علاوه بر این، پیکسل موقت برای رشد بیشتر منطقه به seedList اضافه می شود.\n",
        "\n",
        "متغیر step برای پیگیری تعداد گام های برداشته شده در روند رشد منطقه افزایش می یابد.\n",
        "\n",
        "\n",
        "\n",
        "</div>\n",
        "</font>"
      ]
    },
    {
      "cell_type": "code",
      "execution_count": null,
      "metadata": {
        "id": "tdODHNk_lwM3"
      },
      "outputs": [],
      "source": [
        "def region_growing(img, seeds, thresh, diffType,label):\n",
        "    height, weight = img.shape\n",
        "    seedMark = np.zeros(img.shape)\n",
        "    seedList = []\n",
        "    steps = 1\n",
        "    seeds_grayscale = []\n",
        "    main_grayscale=seeds_grayscale\n",
        "    seeds_avg_grayscale = 0\n",
        "\n",
        "\n",
        "    for seed in seeds:\n",
        "        seedList.append(seed)\n",
        "        seeds_grayscale.append(img[seed[0], seed[1]])\n",
        "    seeds_avg_grayscale = np.average(seeds_grayscale)\n",
        "\n",
        "    connects = [ (0, -1), (1, 0),(0, 1), (-1, 0)]\n",
        "    while(len(seedList)>0):\n",
        "        currentPoint = seedList.pop(0)\n",
        "\n",
        "        if (diffType == \"average\"):\n",
        "            seeds_grayscale.append(img[currentPoint[0], currentPoint[1]])\n",
        "            seeds_avg_grayscale = np.average(seeds_grayscale)\n",
        "            seedMark[currentPoint[0], currentPoint[1]] = label\n",
        "\n",
        "        if(diffType==\"constant\"):\n",
        "            seeds_avg_grayscale =np.average(main_grayscale)\n",
        "            seedMark[currentPoint[0], currentPoint[1]] = label\n",
        "\n",
        "        for i in range(4):\n",
        "            tmpX = currentPoint[0] + connects[i][0]\n",
        "            tmpY = currentPoint[1] + connects[i][1]\n",
        "            if tmpX < 0 or tmpY < 0 or tmpX >= height or tmpY >= weight:\n",
        "                continue\n",
        "\n",
        "            grayDiff = abs (img[tmpX, tmpY] - seeds_avg_grayscale)\n",
        "\n",
        "            if grayDiff < thresh and seedMark[tmpX,tmpY] == 0:\n",
        "                seedMark[tmpX,tmpY] = label\n",
        "                seedList.append((tmpX,tmpY))\n",
        "        steps +=1"
      ]
    },
    {
      "cell_type": "markdown",
      "metadata": {
        "id": "SiSZ70MoH0-j"
      },
      "source": [
        "<hr>\n",
        "<div dir=rtl>\n",
        "\n",
        "<h3><font face=\"B Mitra\" size=5><b>خروجی مورد انتظار:</b></font></h3>\n",
        "\n",
        "<font face=\"B Mitra\" size=4>\n",
        "خروجی مورد انتظار را می‌توانید در تصویر زیر مشاهده بکنید.\n",
        "</font>\n",
        "\n",
        "<img src=\"https://i.ibb.co/Rz37Mrr/output.png\"  width=\"80%\"/>"
      ]
    },
    {
      "cell_type": "markdown",
      "metadata": {
        "id": "dO8eStig7in_"
      },
      "source": [
        "<div dir=rtl>\n",
        "<font face=\"B Mitra\" size=6>\n",
        "لینک‌های مفید\n",
        "</font>\n",
        "<ul>\n",
        "<li><a href=\"https://sbme-tutorials.github.io/2019/cv/notes/6_week6.html\">Region Growing چگونه کار می‌کند</a></li>\n",
        "</ul>\n",
        "</div>\n"
      ]
    },
    {
      "cell_type": "markdown",
      "metadata": {
        "id": "Z8fVnDRph1Zc"
      },
      "source": [
        "<hr>\n",
        "<font face=\"B Mitra\" size=5>\n",
        "<div dir=rtl>\n",
        "\n",
        "<font size=6>\n",
        "<b>تمرین دوم </b>\n",
        "</font>\n",
        "\n",
        "<br>\n",
        "<p align=\"justify\">\n",
        "<font size=4>\n",
        "<p>  در این تمرین قصد داریم سه روش مختلف interpolation یعنی nearest neighborhood , bilinear, bicubic را باهمدیگر مقایسه کنیم.\n",
        "</p>\n",
        "\n",
        "<p>\n",
        "<font size=4>\n",
        "\n",
        "</font>\n",
        "</p>\n",
        "\n",
        "</div>\n",
        "</font>"
      ]
    },
    {
      "cell_type": "markdown",
      "metadata": {
        "id": "FFxmM-6OZMLb"
      },
      "source": [
        "<hr>\n",
        "<font face=\"B Mitra\" size=5>\n",
        "<div dir=rtl>\n",
        "کتابخانه های پیشنهادی:\n"
      ]
    },
    {
      "cell_type": "code",
      "execution_count": null,
      "metadata": {
        "id": "pLUp772eZZQa"
      },
      "outputs": [],
      "source": [
        "# pydicom\n",
        "from pydicom import dcmread\n",
        "import cv2"
      ]
    },
    {
      "cell_type": "markdown",
      "metadata": {
        "id": "D3HCNQHlh17p"
      },
      "source": [
        "<hr>\n",
        "<font face=\"B Mitra\" size=5>\n",
        "<div dir=rtl>\n",
        "\n",
        "<br>\n",
        "<p align=\"justify\">\n",
        "<font size=4>\n",
        "\n",
        "<font size=4>\n",
        "</font>\n",
        "<p>\n",
        "1.2 از فایل file1.dcm تصویر را بخوانید. (قرار داده شده در فایل زیپ)\n",
        "</p>\n",
        "\n",
        "\n",
        "\n",
        "<font size=4>\n",
        "<p>\n",
        "۲.2 تعداد بیت های اختصاص داده (برای هر پیکسل)، تعداد بیت های ذخیره شده (برای هر پیکسل) و دسته بندی روش تصویر برداری و بخشی از بدن که از آن تصویر برداری شده است را استخراج و در خروجی چاپ کنید.\n",
        "</p>\n",
        "</font>\n",
        "\n",
        "\n",
        "<font size=4>\n",
        "\n",
        "<p>\n",
        "۳.2 با نمونه کاهی (downsample) تعداد پیکسل هارا در جهت محور x به 1/4 و در جهت محور y به 1/2 کاهش دهید.\n",
        "</p>\n",
        "\n",
        "\n",
        "<font size=4>\n",
        "\n",
        "<p>\n",
        "۴.2 به کمک کتابخانه OpenCv و با روش های نزدیک ترین همسایه، دوخطی و دومکعبی تصویر بخش پیش را به ابعاد اولیه\n",
        "بازگردانید، نمایش دهید و در مورد تفاوت نتیجه ی هرکدام بحث کنید\n",
        "\n",
        "</p>\n",
        "\n",
        "\n",
        "<font size=4>\n",
        "<p>\n",
        "<h2>  ۵.2 (سوال امتیازی) </h2>\n",
        "\n",
        "\n",
        "\n",
        "\n",
        "\n",
        "<p font=\"Mitra\"> تصویر را به فرمت های tif . و bmp . ذخیره کنید\n",
        "</p>\n",
        "</p>\n",
        "</b>\n",
        "\n",
        "</div>\n",
        "</font>\n",
        "\n",
        "<hr>"
      ]
    },
    {
      "cell_type": "markdown",
      "metadata": {
        "id": "6tCGYEa0aFg5"
      },
      "source": [
        "<font face=\"B Mitra\" size=4>\n",
        "<div dir=rtl>\n",
        "<p>\n",
        "<h2> روند حل مسئله </h2>\n",
        "ابتدا با کمک کتابخانه معرفی شده فرمت dcm را میخوانیم و اطلاعات آن را بیرون میکشیم. برای مراحل بعدی یعنی نمونه کاهی و درونیابی میتوانید از دستورات آماده کتابخانه cv2 استفاده کنید.\n",
        "\n",
        "</div>\n",
        "</font>"
      ]
    },
    {
      "cell_type": "markdown",
      "metadata": {
        "id": "xMfS9UUx6CjL"
      },
      "source": [
        "<div dir=rtl>\n",
        "<font face=\"B Mitra\" size=6>\n",
        "لینک‌های مفید\n",
        "</font>\n",
        "<ul>\n",
        "<li><a href=\"https://www.kaggle.com/code/micheldc55/how-to-read-dcm-dicom-data\">نحوه خواندن فرمت .DCM</a></li>\n",
        "</ul>\n",
        "</div>\n"
      ]
    },
    {
      "cell_type": "code",
      "execution_count": 1,
      "metadata": {},
      "outputs": [
        {
          "ename": "ModuleNotFoundError",
          "evalue": "No module named 'pydicom'",
          "output_type": "error",
          "traceback": [
            "\u001b[1;31m---------------------------------------------------------------------------\u001b[0m",
            "\u001b[1;31mModuleNotFoundError\u001b[0m                       Traceback (most recent call last)",
            "Cell \u001b[1;32mIn[1], line 1\u001b[0m\n\u001b[1;32m----> 1\u001b[0m \u001b[38;5;28;01mfrom\u001b[39;00m \u001b[38;5;21;01mpydicom\u001b[39;00m \u001b[38;5;28;01mimport\u001b[39;00m dcmread\n\u001b[0;32m      2\u001b[0m \u001b[38;5;28;01mimport\u001b[39;00m \u001b[38;5;21;01mcv2\u001b[39;00m\n",
            "\u001b[1;31mModuleNotFoundError\u001b[0m: No module named 'pydicom'"
          ]
        }
      ],
      "source": [
        "from pydicom import dcmread\n",
        "import cv2"
      ]
    }
  ],
  "metadata": {
    "colab": {
      "provenance": []
    },
    "kernelspec": {
      "display_name": "Python 3",
      "name": "python3"
    },
    "language_info": {
      "codemirror_mode": {
        "name": "ipython",
        "version": 3
      },
      "file_extension": ".py",
      "mimetype": "text/x-python",
      "name": "python",
      "nbconvert_exporter": "python",
      "pygments_lexer": "ipython3",
      "version": "3.10.2"
    }
  },
  "nbformat": 4,
  "nbformat_minor": 0
}
